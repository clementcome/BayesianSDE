{
 "cells": [
  {
   "cell_type": "code",
   "execution_count": 1,
   "metadata": {},
   "outputs": [],
   "source": [
    "import numpy as np"
   ]
  },
  {
   "cell_type": "code",
   "execution_count": 2,
   "metadata": {},
   "outputs": [],
   "source": [
    "from inference.prepare import StockData\n",
    "\n",
    "stockData = StockData()"
   ]
  },
  {
   "cell_type": "code",
   "execution_count": 3,
   "metadata": {},
   "outputs": [
    {
     "name": "stdout",
     "output_type": "stream",
     "text": [
      "Shape of the output array is: (12269, 10)\n",
      "Number of stocks observed is: 10\n",
      "Number of observations is: 12269\n",
      "[[30.125       0.92592591  3.54166675  9.4375     18.22500038  9.15310669\n",
      "   1.25        0.85677081  1.234375    1.9296875 ]\n",
      " [30.625       1.00823045  3.45833325  9.5625     18.29999924  9.58456612\n",
      "   1.21875     0.85416669  1.2578125   1.9375    ]\n",
      " [31.          1.02469134  3.44791675  9.46875    18.41250038  9.76947689\n",
      "   1.18923616  0.84375     1.25390625  1.96875   ]\n",
      " [30.75        1.02880657  3.33333325  9.4375     18.42499924  9.64620304\n",
      "   1.21180558  0.8515625   1.25        1.96484375]\n",
      " [30.75        1.03292179  3.26041675  9.3125     18.4375      9.49211025\n",
      "   1.20659721  0.85677081  1.234375    1.953125  ]]\n"
     ]
    }
   ],
   "source": [
    "array, tickers, dates = stockData.get_N_stocks(10)\n",
    "print(\"Shape of the output array is: {}\".format(array.shape))\n",
    "print(\"Number of stocks observed is: {}\".format(len(tickers)))\n",
    "print(\"Number of observations is: {}\".format(len(dates)))\n",
    "print(array[:5])"
   ]
  },
  {
   "cell_type": "code",
   "execution_count": 4,
   "metadata": {},
   "outputs": [],
   "source": [
    "from inference.sample import StockSampler\n",
    "\n",
    "sampler = StockSampler(array, tickers, dates, m=6)"
   ]
  },
  {
   "cell_type": "code",
   "execution_count": 5,
   "metadata": {},
   "outputs": [
    {
     "data": {
      "text/plain": [
       "array([[ 30.125     ,   0.92592591,   3.54166675, ...,   0.85677081,\n",
       "          1.234375  ,   1.9296875 ],\n",
       "       [  0.        ,   0.        ,   0.        , ...,   0.        ,\n",
       "          0.        ,   0.        ],\n",
       "       [  0.        ,   0.        ,   0.        , ...,   0.        ,\n",
       "          0.        ,   0.        ],\n",
       "       ...,\n",
       "       [  0.        ,   0.        ,   0.        , ...,   0.        ,\n",
       "          0.        ,   0.        ],\n",
       "       [  0.        ,   0.        ,   0.        , ...,   0.        ,\n",
       "          0.        ,   0.        ],\n",
       "       [ 71.27999878, 348.76998901, 137.82000732, ...,  45.65000153,\n",
       "        132.61000061,  79.51999664]])"
      ]
     },
     "execution_count": 5,
     "metadata": {},
     "output_type": "execute_result"
    }
   ],
   "source": [
    "sampler.x"
   ]
  },
  {
   "cell_type": "code",
   "execution_count": 6,
   "metadata": {
    "scrolled": true
   },
   "outputs": [
    {
     "name": "stderr",
     "output_type": "stream",
     "text": [
      "C:\\Users\\33611\\Documents\\CS\\Alliance4Tech\\PoliMi\\Cours\\Bayesian Statistics\\Project\\model\\inference\\sample.py:57: RuntimeWarning: overflow encountered in square\n",
      "  sR2 = (self.m - k)/(self.m - k + 1)/self.m * self.theta[l]**2*self.x[self.m*j +k-1]**2\n",
      "C:\\Users\\33611\\Documents\\CS\\Alliance4Tech\\PoliMi\\Cours\\Bayesian Statistics\\Project\\model\\inference\\sample.py:57: RuntimeWarning: overflow encountered in multiply\n",
      "  sR2 = (self.m - k)/(self.m - k + 1)/self.m * self.theta[l]**2*self.x[self.m*j +k-1]**2\n",
      "C:\\Users\\33611\\Miniconda3\\envs\\bayesian\\lib\\site-packages\\numpy\\core\\fromnumeric.py:90: RuntimeWarning: invalid value encountered in reduce\n",
      "  return ufunc.reduce(obj, axis, dtype, out, **passkwargs)\n",
      "C:\\Users\\33611\\Documents\\CS\\Alliance4Tech\\PoliMi\\Cours\\Bayesian Statistics\\Project\\model\\inference\\sample.py:72: RuntimeWarning: divide by zero encountered in true_divide\n",
      "  self.b[l+1] = 1/np.random.gamma(a0 + self.n*self.m/2, 1/(b0 + beta_i_star))\n"
     ]
    }
   ],
   "source": [
    "sampler.sample(5)"
   ]
  },
  {
   "cell_type": "code",
   "execution_count": 7,
   "metadata": {},
   "outputs": [
    {
     "data": {
      "text/plain": [
       "array([[2.89711382e+00, 3.62405073e+00, 6.03342113e+00, 1.86543754e+00,\n",
       "        4.45834070e+00, 6.00152105e+00, 2.39696486e+00, 2.60810310e+00,\n",
       "        8.97511866e+00, 5.47450979e+00],\n",
       "       [1.25203475e+01, 2.89282747e+00, 5.76984436e+01, 1.67086852e+00,\n",
       "        2.90329068e+02, 1.29986957e+00, 1.37761561e+00, 4.08584746e-01,\n",
       "        6.22467909e+02, 5.61587978e-01],\n",
       "       [8.71123204e+10, 2.96398456e+09, 9.94731448e+09, 4.14526737e+09,\n",
       "        7.83528452e+13, 2.67663693e+09, 2.04588632e+13, 7.99534549e+10,\n",
       "        8.96032945e+09, 3.98720545e+10],\n",
       "       [5.07495563e+15, 5.05710077e+15, 5.04028814e+15, 5.06216948e+15,\n",
       "        5.07147513e+43, 5.00821514e+15, 5.55466506e+38, 5.05709086e+15,\n",
       "        5.03625188e+15, 5.05390537e+15],\n",
       "       [2.45264964e+01, 1.37586240e+01, 1.68439922e+01, 1.22607146e+01,\n",
       "                   inf, 2.27425348e+01,            inf, 2.30756108e+01,\n",
       "        6.49703094e+00, 8.57849289e+00]])"
      ]
     },
     "execution_count": 7,
     "metadata": {},
     "output_type": "execute_result"
    }
   ],
   "source": [
    "sampler.b"
   ]
  },
  {
   "cell_type": "code",
   "execution_count": 8,
   "metadata": {},
   "outputs": [
    {
     "data": {
      "text/plain": [
       "nan"
      ]
     },
     "execution_count": 8,
     "metadata": {},
     "output_type": "execute_result"
    }
   ],
   "source": [
    "np.min(sampler.x)"
   ]
  },
  {
   "cell_type": "code",
   "execution_count": 9,
   "metadata": {},
   "outputs": [
    {
     "data": {
      "text/plain": [
       "nan"
      ]
     },
     "execution_count": 9,
     "metadata": {},
     "output_type": "execute_result"
    }
   ],
   "source": [
    "np.max(sampler.x)"
   ]
  },
  {
   "cell_type": "code",
   "execution_count": 10,
   "metadata": {},
   "outputs": [],
   "source": [
    "mu_ijk = sampler.x/np.roll(sampler.x, 1, axis=1)"
   ]
  },
  {
   "cell_type": "code",
   "execution_count": 11,
   "metadata": {},
   "outputs": [
    {
     "data": {
      "text/plain": [
       "(73609, 10)"
      ]
     },
     "execution_count": 11,
     "metadata": {},
     "output_type": "execute_result"
    }
   ],
   "source": [
    "mu_ijk.shape"
   ]
  },
  {
   "cell_type": "code",
   "execution_count": 12,
   "metadata": {},
   "outputs": [
    {
     "data": {
      "text/plain": [
       "(73609, 10)"
      ]
     },
     "execution_count": 12,
     "metadata": {},
     "output_type": "execute_result"
    }
   ],
   "source": [
    "sampler.x.shape"
   ]
  },
  {
   "cell_type": "code",
   "execution_count": 13,
   "metadata": {},
   "outputs": [
    {
     "data": {
      "text/plain": [
       "nan"
      ]
     },
     "execution_count": 13,
     "metadata": {},
     "output_type": "execute_result"
    }
   ],
   "source": [
    "np.min(mu_ijk)"
   ]
  },
  {
   "cell_type": "code",
   "execution_count": 14,
   "metadata": {},
   "outputs": [
    {
     "data": {
      "text/plain": [
       "nan"
      ]
     },
     "execution_count": 14,
     "metadata": {},
     "output_type": "execute_result"
    }
   ],
   "source": [
    "np.max(mu_ijk)"
   ]
  },
  {
   "cell_type": "code",
   "execution_count": 15,
   "metadata": {},
   "outputs": [
    {
     "data": {
      "text/plain": [
       "0.382716059684753"
      ]
     },
     "execution_count": 15,
     "metadata": {},
     "output_type": "execute_result"
    }
   ],
   "source": [
    "np.min(sampler.etas)"
   ]
  },
  {
   "cell_type": "code",
   "execution_count": 16,
   "metadata": {},
   "outputs": [
    {
     "data": {
      "text/plain": [
       "13381.62518691976"
      ]
     },
     "execution_count": 16,
     "metadata": {},
     "output_type": "execute_result"
    }
   ],
   "source": [
    "np.max(sampler.etas[0])"
   ]
  },
  {
   "cell_type": "code",
   "execution_count": 17,
   "metadata": {},
   "outputs": [],
   "source": [
    "import matplotlib.pyplot as plt\n",
    "import seaborn as sns"
   ]
  },
  {
   "cell_type": "code",
   "execution_count": 18,
   "metadata": {},
   "outputs": [],
   "source": [
    "X = np.random.gamma([1,10,100,1000], 1/100000, size=(1000,4))\n",
    "Y = 1/X"
   ]
  },
  {
   "cell_type": "code",
   "execution_count": 19,
   "metadata": {},
   "outputs": [
    {
     "data": {
      "text/plain": [
       "<matplotlib.axes._subplots.AxesSubplot at 0x28297aa5dd8>"
      ]
     },
     "execution_count": 19,
     "metadata": {},
     "output_type": "execute_result"
    },
    {
     "data": {
      "image/png": "[encoded data removed]",
      "text/plain": [
       "<Figure size 432x288 with 1 Axes>"
      ]
     },
     "metadata": {
      "needs_background": "light"
     },
     "output_type": "display_data"
    }
   ],
   "source": [
    "sns.kdeplot(Y[:,3])"
   ]
  },
  {
   "cell_type": "code",
   "execution_count": 20,
   "metadata": {},
   "outputs": [
    {
     "ename": "AttributeError",
     "evalue": "'StockSampler' object has no attribute 'beta'",
     "output_type": "error",
     "traceback": [
      "\u001b[1;31m---------------------------------------------------------------------------\u001b[0m",
      "\u001b[1;31mAttributeError\u001b[0m                            Traceback (most recent call last)",
      "\u001b[1;32m<ipython-input-20-cda50a0f6d1d>\u001b[0m in \u001b[0;36m<module>\u001b[1;34m\u001b[0m\n\u001b[1;32m----> 1\u001b[1;33m \u001b[0mnp\u001b[0m\u001b[1;33m.\u001b[0m\u001b[0marray\u001b[0m\u001b[1;33m(\u001b[0m\u001b[0msampler\u001b[0m\u001b[1;33m.\u001b[0m\u001b[0mbeta\u001b[0m\u001b[1;33m)\u001b[0m\u001b[1;33m[\u001b[0m\u001b[1;33m:\u001b[0m\u001b[1;33m,\u001b[0m\u001b[1;36m0\u001b[0m\u001b[1;33m]\u001b[0m\u001b[1;33m\u001b[0m\u001b[1;33m\u001b[0m\u001b[0m\n\u001b[0m",
      "\u001b[1;31mAttributeError\u001b[0m: 'StockSampler' object has no attribute 'beta'"
     ]
    }
   ],
   "source": [
    "np.array(sampler.mu)[:,0]"
   ]
  },
  {
   "cell_type": "code",
   "execution_count": null,
   "metadata": {},
   "outputs": [],
   "source": [
    "sampler.theta"
   ]
  },
  {
   "cell_type": "code",
   "execution_count": null,
   "metadata": {},
   "outputs": [],
   "source": [
    "sampler.b"
   ]
  },
  {
   "cell_type": "code",
   "execution_count": null,
   "metadata": {},
   "outputs": [],
   "source": []
  }
 ],
 "metadata": {
  "kernelspec": {
   "display_name": "Python 3",
   "language": "python",
   "name": "python3"
  },
  "language_info": {
   "codemirror_mode": {
    "name": "ipython",
    "version": 3
   },
   "file_extension": ".py",
   "mimetype": "text/x-python",
   "name": "python",
   "nbconvert_exporter": "python",
   "pygments_lexer": "ipython3",
   "version": "3.6.9"
  }
 },
 "nbformat": 4,
 "nbformat_minor": 2
}
