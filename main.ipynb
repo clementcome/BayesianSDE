{
 "cells": [
  {
   "cell_type": "code",
   "execution_count": 1,
   "metadata": {},
   "outputs": [],
   "source": [
    "import numpy as np\n",
    "from pathlib import Path\n",
    "path = Path(\"../daily-historical-stock-prices-1970-2018/historical_stock_prices_light.csv\")"
   ]
  },
  {
   "cell_type": "code",
   "execution_count": 2,
   "metadata": {},
   "outputs": [],
   "source": [
    "from inference.prepare import StockData\n",
    "\n",
    "stockData = StockData()"
   ]
  },
  {
   "cell_type": "code",
   "execution_count": 4,
   "metadata": {},
   "outputs": [
    {
     "name": "stdout",
     "output_type": "stream",
     "text": [
      "Shape of the output array is: (11652, 30)\n",
      "Number of stocks observed is: 30\n",
      "Number of observations is: 11652\n",
      "[[  5.41476011  27.           5.07168293   0.74485594   4.72916651\n",
      "   12.64500046   3.6875       1.90304482  20.125        5.09722233\n",
      "    6.0625       9.125        1.43229163  15.125        5.09783745\n",
      "    0.48428985  19.95000076   9.64620304   2.48958325   1.38411462\n",
      "    1.43981481   9.5859375    1.04557288   2.03819442   4.9915452\n",
      "  322.5          0.84635419   3.078125     1.24609375   2.34765625]\n",
      " [  5.41476011  27.125        5.07168293   0.73662549   4.70833349\n",
      "   12.64500046   3.6953125    1.89662433  20.125        5.125\n",
      "    6.0625       9.09375      1.4453125   15.           5.16000605\n",
      "    0.4940466   19.95000076   9.55374718   2.52604175   1.375\n",
      "    1.40432096   9.609375     1.04427087   2.02777767   5.0122571\n",
      "  328.75         0.859375     3.0625       1.234375     2.3203125 ]\n",
      " [  5.24655008  27.125        4.93112803   0.72839504   4.70833349\n",
      "   12.64500046   3.6875       1.90047669  20.25         5.16666651\n",
      "    6.0625       9.125        1.4375      14.875        5.13928318\n",
      "    0.49936846  19.875        9.55374718   2.5859375    1.37239587\n",
      "    1.37962961   9.6171875    1.03645837   2.           5.0122571\n",
      "  336.25         0.84895831   3.0546875    1.24609375   2.30859375]\n",
      " [  5.13040495  26.625        4.81399918   0.71604937   4.65625\n",
      "   12.64500046   3.6796875    1.89662433  20.25         5.15277767\n",
      "    6.0625       9.125        1.4375      14.9375       5.16000605\n",
      "    0.4940466   19.72500038   9.43047333   2.59375      1.36458337\n",
      "    1.39506173   9.5625       1.02994788   1.98958337   5.03296852\n",
      "  338.75         0.84635419   3.0625       1.25         2.24609375]\n",
      " [  5.05430984  26.375        4.75543499   0.7037037    4.60416651\n",
      "   12.78549957   3.65625      1.89277208  20.25         5.11805534\n",
      "    6.03125      9.0625       1.43489587  14.625        5.20145226\n",
      "    0.47630706  19.64999962   9.27638054   2.55208325   1.3515625\n",
      "    1.34876537   9.46875      1.01822913   1.96527779   5.03296852\n",
      "  332.5          0.86458331   3.1171875    1.234375     2.23046875]]\n"
     ]
    }
   ],
   "source": [
    "array, tickers, dates = stockData.get_N_stocks(30)\n",
    "print(\"Shape of the output array is: {}\".format(array.shape))\n",
    "print(\"Number of stocks observed is: {}\".format(len(tickers)))\n",
    "print(\"Number of observations is: {}\".format(len(dates)))\n",
    "print(array[:5])"
   ]
  },
  {
   "cell_type": "code",
   "execution_count": 5,
   "metadata": {},
   "outputs": [],
   "source": [
    "from inference.sample import StockSampler\n",
    "\n",
    "sampler = StockSampler(array, tickers, dates, m=6)"
   ]
  },
  {
   "cell_type": "code",
   "execution_count": 6,
   "metadata": {},
   "outputs": [
    {
     "data": {
      "text/plain": [
       "array([[  5.41476011,  27.        ,   5.07168293, ...,   3.078125  ,\n",
       "          1.24609375,   2.34765625],\n",
       "       [  0.        ,   0.        ,   0.        , ...,   0.        ,\n",
       "          0.        ,   0.        ],\n",
       "       [  0.        ,   0.        ,   0.        , ...,   0.        ,\n",
       "          0.        ,   0.        ],\n",
       "       ...,\n",
       "       [  0.        ,   0.        ,   0.        , ...,   0.        ,\n",
       "          0.        ,   0.        ],\n",
       "       [  0.        ,   0.        ,   0.        , ...,   0.        ,\n",
       "          0.        ,   0.        ],\n",
       "       [ 42.70999908,  71.27999878,  21.29999924, ...,  83.22000122,\n",
       "        132.61000061,  79.51999664]])"
      ]
     },
     "execution_count": 6,
     "metadata": {},
     "output_type": "execute_result"
    }
   ],
   "source": [
    "sampler.x"
   ]
  },
  {
   "cell_type": "code",
   "execution_count": 7,
   "metadata": {
    "scrolled": true
   },
   "outputs": [
    {
     "name": "stderr",
     "output_type": "stream",
     "text": [
      "100%|████████████████████████████████████████████████████████████████████████████████| 100/100 [05:44<00:00,  3.44s/it]\n"
     ]
    }
   ],
   "source": [
    "sampler.sample(100)"
   ]
  },
  {
   "cell_type": "code",
   "execution_count": 8,
   "metadata": {},
   "outputs": [
    {
     "data": {
      "text/plain": [
       "array([[0.22845269, 0.14505469, 0.11732811, ..., 0.76697471, 0.4127445 ,\n",
       "        0.30880971],\n",
       "       [0.20555489, 0.28414024, 0.09065451, ..., 0.83729269, 0.02726759,\n",
       "        0.07589984],\n",
       "       [0.2070803 , 0.33161838, 0.07621884, ..., 0.73567609, 0.03447714,\n",
       "        0.07812161],\n",
       "       ...,\n",
       "       [0.17542165, 0.22698954, 0.11355948, ..., 0.94688775, 0.01552684,\n",
       "        0.12545645],\n",
       "       [0.14792928, 0.29628044, 0.08493478, ..., 0.85559404, 0.06195572,\n",
       "        0.08845272],\n",
       "       [0.06907713, 0.35989221, 0.29436705, ..., 0.9299093 , 0.0910574 ,\n",
       "        0.0576105 ]])"
      ]
     },
     "execution_count": 8,
     "metadata": {},
     "output_type": "execute_result"
    }
   ],
   "source": [
    "sampler.b2"
   ]
  },
  {
   "cell_type": "code",
   "execution_count": 9,
   "metadata": {},
   "outputs": [
    {
     "data": {
      "text/plain": [
       "0.35954964160919206"
      ]
     },
     "execution_count": 9,
     "metadata": {},
     "output_type": "execute_result"
    }
   ],
   "source": [
    "np.min(sampler.x)"
   ]
  },
  {
   "cell_type": "code",
   "execution_count": 10,
   "metadata": {},
   "outputs": [
    {
     "data": {
      "text/plain": [
       "1417.356669532011"
      ]
     },
     "execution_count": 10,
     "metadata": {},
     "output_type": "execute_result"
    }
   ],
   "source": [
    "np.max(sampler.x)"
   ]
  },
  {
   "cell_type": "code",
   "execution_count": 11,
   "metadata": {},
   "outputs": [],
   "source": [
    "mu_ijk = sampler.x/np.roll(sampler.x, 1, axis=1)"
   ]
  },
  {
   "cell_type": "code",
   "execution_count": 12,
   "metadata": {},
   "outputs": [
    {
     "data": {
      "text/plain": [
       "(69907, 30)"
      ]
     },
     "execution_count": 12,
     "metadata": {},
     "output_type": "execute_result"
    }
   ],
   "source": [
    "mu_ijk.shape"
   ]
  },
  {
   "cell_type": "code",
   "execution_count": 13,
   "metadata": {},
   "outputs": [
    {
     "data": {
      "text/plain": [
       "(69907, 30)"
      ]
     },
     "execution_count": 13,
     "metadata": {},
     "output_type": "execute_result"
    }
   ],
   "source": [
    "sampler.x.shape"
   ]
  },
  {
   "cell_type": "code",
   "execution_count": 14,
   "metadata": {},
   "outputs": [
    {
     "data": {
      "text/plain": [
       "0.001262130049007082"
      ]
     },
     "execution_count": 14,
     "metadata": {},
     "output_type": "execute_result"
    }
   ],
   "source": [
    "np.min(mu_ijk)"
   ]
  },
  {
   "cell_type": "code",
   "execution_count": 15,
   "metadata": {},
   "outputs": [
    {
     "data": {
      "text/plain": [
       "106.17338071808166"
      ]
     },
     "execution_count": 15,
     "metadata": {},
     "output_type": "execute_result"
    }
   ],
   "source": [
    "np.max(mu_ijk)"
   ]
  },
  {
   "cell_type": "code",
   "execution_count": 16,
   "metadata": {},
   "outputs": [
    {
     "data": {
      "text/plain": [
       "0.30805044126882253"
      ]
     },
     "execution_count": 16,
     "metadata": {},
     "output_type": "execute_result"
    }
   ],
   "source": [
    "np.min(sampler.etas)"
   ]
  },
  {
   "cell_type": "code",
   "execution_count": 17,
   "metadata": {},
   "outputs": [
    {
     "data": {
      "text/plain": [
       "452.5"
      ]
     },
     "execution_count": 17,
     "metadata": {},
     "output_type": "execute_result"
    }
   ],
   "source": [
    "np.max(sampler.etas[0])"
   ]
  },
  {
   "cell_type": "code",
   "execution_count": 18,
   "metadata": {},
   "outputs": [],
   "source": [
    "import matplotlib.pyplot as plt\n",
    "import seaborn as sns"
   ]
  },
  {
   "cell_type": "code",
   "execution_count": 29,
   "metadata": {},
   "outputs": [
    {
     "data": {
      "image/png": "[encoded data removed]",
      "text/plain": [
       "<Figure size 720x720 with 9 Axes>"
      ]
     },
     "metadata": {
      "needs_background": "light"
     },
     "output_type": "display_data"
    }
   ],
   "source": [
    "fig, axes = plt.subplots(3, 3, figsize=(10,10))\n",
    "N0 = 20\n",
    "for i in range(N0, N0+9):\n",
    "    sns.kdeplot(sampler.b2[:,i], ax=axes[(i-N0)//3, i%3]).set_title(sampler.tickers[i])"
   ]
  },
  {
   "cell_type": "code",
   "execution_count": 22,
   "metadata": {},
   "outputs": [
    {
     "data": {
      "text/plain": [
       "<matplotlib.axes._subplots.AxesSubplot at 0x1c322e9f2b0>"
      ]
     },
     "execution_count": 22,
     "metadata": {},
     "output_type": "execute_result"
    },
    {
     "data": {
      "image/png": "[encoded data removed]",
      "text/plain": [
       "<Figure size 432x288 with 1 Axes>"
      ]
     },
     "metadata": {
      "needs_background": "light"
     },
     "output_type": "display_data"
    }
   ],
   "source": [
    "sns.distplot(sampler.theta)"
   ]
  },
  {
   "cell_type": "code",
   "execution_count": 23,
   "metadata": {},
   "outputs": [
    {
     "data": {
      "text/plain": [
       "array([0.20555489, 0.28414024, 0.09065451, 0.34443075, 0.30919486,\n",
       "       0.07449991, 0.20646711, 0.09354705, 0.39623294, 0.02541683,\n",
       "       0.10999526, 0.08753935, 0.4547696 , 0.40294971, 0.74672568,\n",
       "       0.09831613, 0.15365146, 0.05729937, 0.26339152, 0.2321492 ,\n",
       "       0.1257923 , 0.46664238, 0.05413538, 0.05509322, 0.37212336,\n",
       "       0.27033218, 0.14912723, 0.83729269, 0.02726759, 0.07589984])"
      ]
     },
     "execution_count": 23,
     "metadata": {},
     "output_type": "execute_result"
    }
   ],
   "source": [
    "sampler.b2[1]"
   ]
  },
  {
   "cell_type": "code",
   "execution_count": 24,
   "metadata": {},
   "outputs": [
    {
     "data": {
      "text/plain": [
       "56.90718396063693"
      ]
     },
     "execution_count": 24,
     "metadata": {},
     "output_type": "execute_result"
    }
   ],
   "source": [
    "np.mean(sampler.etas[3])"
   ]
  },
  {
   "cell_type": "code",
   "execution_count": 25,
   "metadata": {},
   "outputs": [
    {
     "data": {
      "text/plain": [
       "array([[  5.41476011,  27.        ,   5.07168293, ...,   3.078125  ,\n",
       "          1.24609375,   2.34765625],\n",
       "       [  5.41476011,  27.125     ,   5.07168293, ...,   3.0625    ,\n",
       "          1.234375  ,   2.3203125 ],\n",
       "       [  5.24655008,  27.125     ,   4.93112803, ...,   3.0546875 ,\n",
       "          1.24609375,   2.30859375],\n",
       "       ...,\n",
       "       [ 43.20000076,  71.80000305,  21.57999992, ...,  83.80999756,\n",
       "        135.05999756,  79.11000061],\n",
       "       [ 42.5       ,  70.69999695,  21.43000031, ...,  83.01000214,\n",
       "        133.50999451,  79.55999756],\n",
       "       [ 42.70999908,  71.27999878,  21.29999924, ...,  83.22000122,\n",
       "        132.61000061,  79.51999664]])"
      ]
     },
     "execution_count": 25,
     "metadata": {},
     "output_type": "execute_result"
    }
   ],
   "source": [
    "sampler.prices_array"
   ]
  },
  {
   "cell_type": "code",
   "execution_count": 26,
   "metadata": {},
   "outputs": [
    {
     "data": {
      "text/plain": [
       "array([  5.41476011,  27.125     ,   5.07168293,   0.73662549,\n",
       "         4.70833349,  12.64500046,   3.6953125 ,   1.89662433,\n",
       "        20.125     ,   5.125     ,   6.0625    ,   9.09375   ,\n",
       "         1.4453125 ,  15.        ,   5.16000605,   0.4940466 ,\n",
       "        19.95000076,   9.55374718,   2.52604175,   1.375     ,\n",
       "         1.40432096,   9.609375  ,   1.04427087,   2.02777767,\n",
       "         5.0122571 , 328.75      ,   0.859375  ,   3.0625    ,\n",
       "         1.234375  ,   2.3203125 ])"
      ]
     },
     "execution_count": 26,
     "metadata": {},
     "output_type": "execute_result"
    }
   ],
   "source": [
    "sampler.etas[0][6]"
   ]
  },
  {
   "cell_type": "code",
   "execution_count": 27,
   "metadata": {},
   "outputs": [
    {
     "data": {
      "text/plain": [
       "array([0., 0., 0., 0., 0., 0., 0., 0., 0., 0., 0., 0., 0., 0., 0., 0., 0.,\n",
       "       0., 0., 0., 0., 0., 0., 0., 0., 0., 0., 0., 0., 0.])"
      ]
     },
     "execution_count": 27,
     "metadata": {},
     "output_type": "execute_result"
    }
   ],
   "source": [
    "sampler.Rs[1][0]"
   ]
  },
  {
   "cell_type": "code",
   "execution_count": null,
   "metadata": {},
   "outputs": [],
   "source": []
  }
 ],
 "metadata": {
  "kernelspec": {
   "display_name": "Python 3",
   "language": "python",
   "name": "python3"
  },
  "language_info": {
   "codemirror_mode": {
    "name": "ipython",
    "version": 3
   },
   "file_extension": ".py",
   "mimetype": "text/x-python",
   "name": "python",
   "nbconvert_exporter": "python",
   "pygments_lexer": "ipython3",
   "version": "3.6.9"
  }
 },
 "nbformat": 4,
 "nbformat_minor": 2
}
