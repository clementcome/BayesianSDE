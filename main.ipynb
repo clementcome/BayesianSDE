{
 "cells": [
  {
   "cell_type": "code",
   "execution_count": 1,
   "metadata": {},
   "outputs": [],
   "source": [
    "import numpy as np\n",
    "from pathlib import Path\n",
    "path = Path(\"../daily-historical-stock-prices-1970-2018/historical_stock_prices_light.csv\")"
   ]
  },
  {
   "cell_type": "code",
   "execution_count": 2,
   "metadata": {},
   "outputs": [],
   "source": [
    "from inference.prepare import StockData\n",
    "\n",
    "stockData = StockData()"
   ]
  },
  {
   "cell_type": "code",
   "execution_count": 3,
   "metadata": {},
   "outputs": [
    {
     "name": "stdout",
     "output_type": "stream",
     "text": [
      "Shape of the output array is: (12269, 10)\n",
      "Number of stocks observed is: 10\n",
      "Number of observations is: 12269\n",
      "[[30.125       0.92592591  3.54166675  9.4375     18.22500038  9.15310669\n",
      "   1.25        0.85677081  1.234375    1.9296875 ]\n",
      " [30.625       1.00823045  3.45833325  9.5625     18.29999924  9.58456612\n",
      "   1.21875     0.85416669  1.2578125   1.9375    ]\n",
      " [31.          1.02469134  3.44791675  9.46875    18.41250038  9.76947689\n",
      "   1.18923616  0.84375     1.25390625  1.96875   ]\n",
      " [30.75        1.02880657  3.33333325  9.4375     18.42499924  9.64620304\n",
      "   1.21180558  0.8515625   1.25        1.96484375]\n",
      " [30.75        1.03292179  3.26041675  9.3125     18.4375      9.49211025\n",
      "   1.20659721  0.85677081  1.234375    1.953125  ]]\n"
     ]
    }
   ],
   "source": [
    "array, tickers, dates = stockData.get_N_stocks(10)\n",
    "print(\"Shape of the output array is: {}\".format(array.shape))\n",
    "print(\"Number of stocks observed is: {}\".format(len(tickers)))\n",
    "print(\"Number of observations is: {}\".format(len(dates)))\n",
    "print(array[:5])"
   ]
  },
  {
   "cell_type": "code",
   "execution_count": 4,
   "metadata": {},
   "outputs": [],
   "source": [
    "from inference.sample import StockSampler\n",
    "\n",
    "m=4\n",
    "\n",
    "sampler = StockSampler(array, tickers, dates, m=m)"
   ]
  },
  {
   "cell_type": "code",
   "execution_count": 5,
   "metadata": {},
   "outputs": [
    {
     "data": {
      "text/plain": [
       "array([[ 30.125     ,   0.92592591,   3.54166675, ...,   0.85677081,\n",
       "          1.234375  ,   1.9296875 ],\n",
       "       [  0.        ,   0.        ,   0.        , ...,   0.        ,\n",
       "          0.        ,   0.        ],\n",
       "       [  0.        ,   0.        ,   0.        , ...,   0.        ,\n",
       "          0.        ,   0.        ],\n",
       "       ...,\n",
       "       [  0.        ,   0.        ,   0.        , ...,   0.        ,\n",
       "          0.        ,   0.        ],\n",
       "       [  0.        ,   0.        ,   0.        , ...,   0.        ,\n",
       "          0.        ,   0.        ],\n",
       "       [ 71.27999878, 348.76998901, 137.82000732, ...,  45.65000153,\n",
       "        132.61000061,  79.51999664]])"
      ]
     },
     "execution_count": 5,
     "metadata": {},
     "output_type": "execute_result"
    }
   ],
   "source": [
    "sampler.x"
   ]
  },
  {
   "cell_type": "code",
   "execution_count": null,
   "metadata": {
    "scrolled": true
   },
   "outputs": [
    {
     "name": "stderr",
     "output_type": "stream",
     "text": [
      " 26%|████████████████████████████                                                                                | 26/100 [00:37<01:38,  1.34s/it]"
     ]
    }
   ],
   "source": [
    "sampler.sample(100)"
   ]
  },
  {
   "cell_type": "code",
   "execution_count": null,
   "metadata": {},
   "outputs": [],
   "source": [
    "from inference.analyse import StockAnalysis\n",
    "\n",
    "params = {\"theta\": sampler.theta, \"b2\":sampler.b2}\n",
    "\n",
    "analyser = StockAnalysis(sampler.prices_array, sampler.etas + sampler.Rs,\n",
    "                        sampler.tickers, params, dates=sampler.dates, m=m)"
   ]
  },
  {
   "cell_type": "code",
   "execution_count": null,
   "metadata": {},
   "outputs": [],
   "source": [
    "analyser.plot_quantiles()"
   ]
  },
  {
   "cell_type": "code",
   "execution_count": null,
   "metadata": {},
   "outputs": [],
   "source": [
    "index_list = [1,2,3,5,6,7,8,9]\n",
    "observed_tickers = [sampler.tickers[i] for i in index_list]"
   ]
  },
  {
   "cell_type": "code",
   "execution_count": null,
   "metadata": {},
   "outputs": [],
   "source": [
    "analyser.plot_parameter_distributions(observed_tickers)"
   ]
  },
  {
   "cell_type": "code",
   "execution_count": null,
   "metadata": {},
   "outputs": [],
   "source": [
    "sampler.tickers"
   ]
  },
  {
   "cell_type": "code",
   "execution_count": null,
   "metadata": {},
   "outputs": [],
   "source": [
    "sampler.b2"
   ]
  }
 ],
 "metadata": {
  "kernelspec": {
   "display_name": "Python 3",
   "language": "python",
   "name": "python3"
  },
  "language_info": {
   "codemirror_mode": {
    "name": "ipython",
    "version": 3
   },
   "file_extension": ".py",
   "mimetype": "text/x-python",
   "name": "python",
   "nbconvert_exporter": "python",
   "pygments_lexer": "ipython3",
   "version": "3.6.9"
  }
 },
 "nbformat": 4,
 "nbformat_minor": 2
}
